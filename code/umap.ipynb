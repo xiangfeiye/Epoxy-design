{
 "cells": [
  {
   "cell_type": "code",
   "execution_count": 1,
   "id": "b4d9a0df",
   "metadata": {},
   "outputs": [
    {
     "name": "stderr",
     "output_type": "stream",
     "text": [
      "E:\\conda\\envs\\py311\\Lib\\site-packages\\tqdm\\auto.py:21: TqdmWarning: IProgress not found. Please update jupyter and ipywidgets. See https://ipywidgets.readthedocs.io/en/stable/user_install.html\n",
      "  from .autonotebook import tqdm as notebook_tqdm\n"
     ]
    }
   ],
   "source": [
    "import pandas as pd\n",
    "import numpy as np\n",
    "from sklearn.decomposition import PCA\n",
    "from sklearn.preprocessing import StandardScaler\n",
    "import umap\n",
    "import pickle\n",
    "\n",
    "def generate_vectors(num_vectors, dimension):\n",
    "    return np.random.rand(num_vectors, dimension)\n",
    "\n",
    "import itertools\n",
    "\n",
    "def generate_cons_vectors(n):\n",
    "    # 生成所有可能的取值为0或1的n维向量\n",
    "    possible_values = itertools.product([0, 1], repeat=n)\n",
    "    # 将向量组合成一个列表\n",
    "    vectors = [vector for vector in possible_values]\n",
    "    return np.array(vectors)"
   ]
  },
  {
   "cell_type": "code",
   "execution_count": 7,
   "id": "71cb53f1",
   "metadata": {},
   "outputs": [],
   "source": [
    "# 使用函数生成m个n维的随机向量,实例化一个降维器并存储\n",
    "vectors = generate_vectors(10240, 6)\n",
    "reducer = umap.UMAP()\n",
    "reducer.fit(vectors)\n",
    "reducer.input = vectors\n",
    "with open('umaper.pt', 'wb') as f:\n",
    "    pickle.dump(reducer, f)"
   ]
  },
  {
   "cell_type": "code",
   "execution_count": 8,
   "id": "eca01181",
   "metadata": {},
   "outputs": [],
   "source": [
    "base_Y = reducer.transform(vectors)"
   ]
  },
  {
   "cell_type": "code",
   "execution_count": 9,
   "id": "bdad9956",
   "metadata": {},
   "outputs": [],
   "source": [
    "base_df = pd.DataFrame()\n",
    "base_df[['dim1', 'dim2']] = base_Y"
   ]
  }
 ],
 "metadata": {
  "kernelspec": {
   "display_name": "Python 3 (ipykernel)",
   "language": "python",
   "name": "python3"
  },
  "language_info": {
   "codemirror_mode": {
    "name": "ipython",
    "version": 3
   },
   "file_extension": ".py",
   "mimetype": "text/x-python",
   "name": "python",
   "nbconvert_exporter": "python",
   "pygments_lexer": "ipython3",
   "version": "3.11.5"
  }
 },
 "nbformat": 4,
 "nbformat_minor": 5
}

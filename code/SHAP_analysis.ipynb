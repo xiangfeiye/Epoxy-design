{
 "cells": [
  {
   "cell_type": "code",
   "execution_count": 1,
   "id": "4248d76e",
   "metadata": {},
   "outputs": [],
   "source": [
    "import pandas as pd\n",
    "import numpy as np\n",
    "from sklearn.metrics import r2_score, mean_absolute_error, mean_squared_error\n",
    "import random\n",
    "from tqdm import trange\n",
    "import pickle \n",
    "import shap\n",
    "# import optuna\n",
    "from sklearn.ensemble import GradientBoostingRegressor\n",
    "from sklearn.gaussian_process import GaussianProcessRegressor\n",
    "from sklearn.svm import SVR\n",
    "from sklearn.gaussian_process.kernels import ConstantKernel, RBF, WhiteKernel, DotProduct, Matern\n",
    "from sklearn.model_selection import cross_val_score\n",
    "import matplotlib.pyplot as plt"
   ]
  },
  {
   "cell_type": "code",
   "execution_count": 2,
   "id": "ebfc4b1f",
   "metadata": {},
   "outputs": [],
   "source": [
    "target_list = ['strength', 'modulus', 'elongation', 'tg']\n",
    "x_dim = 6\n",
    "bounds = np.array([[95., 120., 130., 120., 170., 120.],\n",
    "                       [125., 300., 160., 300., 190., 300.]])\n",
    "df = pd.read_csv('total_data.csv')\n",
    "df = df.sample(frac=1, random_state=42)\n",
    "\n",
    "X = np.array(df[['Temperature1/C', 'Time1/min', 'Temperature2/C','Time2/min', 'Temperature3/C', 'Time3/min']])\n",
    "Y_total = np.array(df[['tensile strength/MPa','Young\\'s modulus/Mpa', 'elongation_max/%', 'Tg']])"
   ]
  },
  {
   "cell_type": "code",
   "execution_count": null,
   "id": "2eb7220e",
   "metadata": {},
   "outputs": [],
   "source": [
    "with open('shap_states_1229.pth', 'rb') as f:\n",
    "    state_dict = pickle.load(f)\n",
    "\n",
    "import matplotlib.pyplot as plt\n",
    "from matplotlib.colors import LinearSegmentedColormap\n",
    "colors = [(0, '#27e157'),  # 绿色\n",
    "          (0.5, '#3F8BFF'),  # 蓝色\n",
    "          (1, '#8A00B1')]  # 紫色\n",
    "cmap = LinearSegmentedColormap.from_list('custom_cmap', colors)\n",
    "\n",
    "# background-image: linear-gradient(to right, #27e157, #00dda1, #00d4d8, #00c6f5, #00b4f6, #46a6f6, #6f96ef, #9184e1, #bb6ccc, #dc50a9, #ed3479, #ec2b44);\n",
    "\n",
    "for target in ['strength', 'modulus', 'elongation','tg']:\n",
    "\n",
    "    test_x = state_dict[target]['data']\n",
    "    shap_values = state_dict[target]['shap_values']\n",
    "    # 可视化结果\n",
    "    plt.rcParams['xtick.direction'] = 'in'#将x周的刻度线方向设置向内\n",
    "    # plt.rcParams['ytick.direction'] = 'in'#将y轴的刻度方向设置向内\n",
    "\n",
    "    font = {'family': 'Arial',\n",
    "            'weight': 'bold',\n",
    "            'size': 20}\n",
    "    fig, ax = plt.subplots()\n",
    "    x_name = ['T.1', 't.1', 'T.2', 't.2', 'T.3', 't.3']\n",
    "    shap.summary_plot(shap_values, test_x, feature_names=x_name, max_display=30, show=False, cmap=cmap) \n",
    "    for spine in ax.spines.values():\n",
    "        spine.set_visible(True)\n",
    "        spine.set_edgecolor('black')\n",
    "        spine.set_linewidth(1.5)\n",
    "    for label in ax.get_yticklabels():\n",
    "        label.set_fontsize(20)\n",
    "        label.set_weight('bold')\n",
    "        label.set_fontname(\"Arial\")\n",
    "        label.set_rotation(0)\n",
    "    for label in ax.get_xticklabels():\n",
    "        label.set_fontsize(20)\n",
    "        label.set_weight('bold')\n",
    "        label.set_fontname(\"Arial\")\n",
    "    ax.tick_params(axis='x', which='major', width=3)\n",
    "\n",
    "    ax.xaxis.get_label().set_fontsize(20)\n",
    "    ax.xaxis.get_label().set_fontweight('bold')\n",
    "    ax.xaxis.get_label().set_fontname(\"Arial\")\n",
    "    plt.gcf().axes[-1].tick_params(labelsize=20)\n",
    "    plt.gcf().axes[-1].set_ylabel(\"Feature value\", fontdict=font)\n",
    "    plt.gcf().set_size_inches(6, 4)\n",
    "    plt.savefig('%s.png'%target, dpi=800, bbox_inches='tight')\n",
    "    plt.show()"
   ]
  },
  {
   "cell_type": "code",
   "execution_count": 131,
   "id": "b80afb37",
   "metadata": {},
   "outputs": [],
   "source": [
    "x_name = ['T1_0', 't1_1', 'T2_2', 't2_3', 'T3_4', 't3_5']\n",
    "df = pd.DataFrame()\n",
    "\n",
    "for key in ['strength', 'modulus', 'elongation', 'tg']:\n",
    "    dict_ = state_dict[key]\n",
    "    shap_values = dict_['shap_values']\n",
    "    ip = np.abs(shap_values).mean(axis=0)\n",
    "    ip_sorted = np.argsort(-ip)\n",
    "    for i in range(len(x_name)):\n",
    "        idx = ip_sorted[i]\n",
    "        name = x_name[idx]\n",
    "        df[key+'_x_'+name] = dict_['data'][:, idx]\n",
    "        df[key+'_y_'+name] = shap_values[:, idx]\n",
    "        "
   ]
  },
  {
   "cell_type": "code",
   "execution_count": 133,
   "id": "9f025292",
   "metadata": {},
   "outputs": [],
   "source": [
    "df.to_csv('shap_results.csv', index=True)"
   ]
  }
 ],
 "metadata": {
  "kernelspec": {
   "display_name": "Python 3 (ipykernel)",
   "language": "python",
   "name": "python3"
  },
  "language_info": {
   "codemirror_mode": {
    "name": "ipython",
    "version": 3
   },
   "file_extension": ".py",
   "mimetype": "text/x-python",
   "name": "python",
   "nbconvert_exporter": "python",
   "pygments_lexer": "ipython3",
   "version": "3.11.5"
  }
 },
 "nbformat": 4,
 "nbformat_minor": 5
}
